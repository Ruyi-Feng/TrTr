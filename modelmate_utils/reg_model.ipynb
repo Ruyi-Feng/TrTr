{
 "cells": [
  {
   "cell_type": "code",
   "execution_count": 24,
   "id": "7a7aa36a",
   "metadata": {},
   "outputs": [
    {
     "ename": "TypeError",
     "evalue": "tags() takes 2 positional arguments but 3 were given",
     "output_type": "error",
     "traceback": [
      "\u001b[0;31m---------------------------------------------------------------------------\u001b[0m",
      "\u001b[0;31mTypeError\u001b[0m                                 Traceback (most recent call last)",
      "Cell \u001b[0;32mIn[24], line 7\u001b[0m\n\u001b[1;32m      4\u001b[0m \u001b[38;5;28;01mfrom\u001b[39;00m \u001b[38;5;21;01mmanas\u001b[39;00m\u001b[38;5;21;01m.\u001b[39;00m\u001b[38;5;21;01mmodel2\u001b[39;00m\u001b[38;5;21;01m.\u001b[39;00m\u001b[38;5;21;01mmetadata\u001b[39;00m\u001b[38;5;21;01m.\u001b[39;00m\u001b[38;5;21;01mParameterBuilder\u001b[39;00m \u001b[38;5;28;01mimport\u001b[39;00m ParameterBuilder\n\u001b[1;32m      6\u001b[0m save_path \u001b[38;5;241m=\u001b[39m \u001b[38;5;124m\"\u001b[39m\u001b[38;5;124m/dls/app/test_wt/\u001b[39m\u001b[38;5;124m\"\u001b[39m\n\u001b[0;32m----> 7\u001b[0m model_spec \u001b[38;5;241m=\u001b[39m \u001b[43mModelSpec\u001b[49m\u001b[38;5;241;43m.\u001b[39;49m\u001b[43mBuilder\u001b[49m\u001b[43m(\u001b[49m\u001b[43m)\u001b[49m\u001b[38;5;241;43m.\u001b[39;49m\u001b[43mname\u001b[49m\u001b[43m(\u001b[49m\u001b[38;5;124;43m'\u001b[39;49m\u001b[38;5;124;43mwt\u001b[39;49m\u001b[38;5;124;43m'\u001b[39;49m\u001b[43m)\u001b[49m\u001b[38;5;241;43m.\u001b[39;49m\u001b[43mtype\u001b[49m\u001b[43m(\u001b[49m\u001b[38;5;124;43m\"\u001b[39;49m\u001b[38;5;124;43mpytorch-pth\u001b[39;49m\u001b[38;5;124;43m\"\u001b[39;49m\u001b[43m)\u001b[49m\u001b[38;5;241;43m.\u001b[39;49m\u001b[43mmodel_version\u001b[49m\u001b[43m(\u001b[49m\u001b[38;5;124;43m\"\u001b[39;49m\u001b[38;5;124;43m2.0.0\u001b[39;49m\u001b[38;5;124;43m\"\u001b[39;49m\u001b[43m)\u001b[49m\u001b[38;5;241;43m.\u001b[39;49m\u001b[43mtags\u001b[49m\u001b[43m(\u001b[49m\u001b[38;5;124;43m\"\u001b[39;49m\u001b[38;5;124;43mtest\u001b[39;49m\u001b[38;5;124;43m\"\u001b[39;49m\u001b[43m,\u001b[49m\u001b[38;5;124;43m\"\u001b[39;49m\u001b[38;5;124;43minit\u001b[39;49m\u001b[38;5;124;43m\"\u001b[39;49m\u001b[43m)\u001b[49m\u001b[38;5;241m.\u001b[39mbuild()\n\u001b[1;32m      8\u001b[0m metadata \u001b[38;5;241m=\u001b[39m MetaDataBuilder()\u001b[38;5;241m.\u001b[39mmodel_spec(model_spec)\u001b[38;5;241m.\u001b[39mbuild()\n\u001b[1;32m      9\u001b[0m builder \u001b[38;5;241m=\u001b[39m ParameterBuilder()\u001b[38;5;241m.\u001b[39mmodel(save_path)\u001b[38;5;241m.\u001b[39mmetadata(metadata)\u001b[38;5;241m.\u001b[39mbuild()\n",
      "\u001b[0;31mTypeError\u001b[0m: tags() takes 2 positional arguments but 3 were given"
     ]
    }
   ],
   "source": [
    "\n",
    "from manas.model2 import repository\n",
    "from manas.model2.metadata.metadataBuilder import MetaDataBuilder\n",
    "from manas.model2.metadata.model_spec import ModelSpec\n",
    "from manas.model2.metadata.ParameterBuilder import ParameterBuilder\n",
    "\n",
    "save_path = \"/dls/app/test_wt/\"\n",
    "model_spec = ModelSpec.Builder().name('wt').type(\"pytorch-pth\").model_version(\"2.0.0\").tags(\"test\").build()\n",
    "metadata = MetaDataBuilder().model_spec(model_spec).build()\n",
    "builder = ParameterBuilder().model(save_path).metadata(metadata).build()\n",
    "repository.modelGenerate(builder, save_path)\n",
    "result = repository.modelRegister(save_path)\n",
    "print(result)\n",
    "# end转换并注册mindir"
   ]
  },
  {
   "cell_type": "code",
   "execution_count": null,
   "id": "1e8afa8a",
   "metadata": {},
   "outputs": [],
   "source": []
  }
 ],
 "metadata": {
  "kernelspec": {
   "display_name": "Python 3 (ipykernel)",
   "language": "python",
   "name": "python3"
  },
  "language_info": {
   "codemirror_mode": {
    "name": "ipython",
    "version": 3
   },
   "file_extension": ".py",
   "mimetype": "text/x-python",
   "name": "python",
   "nbconvert_exporter": "python",
   "pygments_lexer": "ipython3",
   "version": "3.9.11"
  }
 },
 "nbformat": 4,
 "nbformat_minor": 5
}
